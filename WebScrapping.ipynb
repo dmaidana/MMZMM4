{
 "cells": [
  {
   "cell_type": "markdown",
   "metadata": {},
   "source": [
    "Importamos librerias necesarias:\n",
    "BeautifulSoup4,\n",
    "requests,\n",
    "pandas"
   ]
  },
  {
   "cell_type": "code",
   "execution_count": 48,
   "metadata": {},
   "outputs": [],
   "source": [
    "from bs4 import BeautifulSoup as BS\n",
    "import requests\n",
    "import pandas"
   ]
  },
  {
   "cell_type": "markdown",
   "metadata": {},
   "source": [
    "Importamos la url desde la cual tomaremos los datos necesarios para nuestra Data Base"
   ]
  },
  {
   "cell_type": "code",
   "execution_count": 49,
   "metadata": {},
   "outputs": [],
   "source": [
    "url = 'https://pokemondb.net/pokedex/all'\n",
    "web = requests.get(url)\n",
    "soup = BS(web.content, 'html.parser')"
   ]
  },
  {
   "cell_type": "markdown",
   "metadata": {},
   "source": [
    "Obtenemos las columnas de la lista de Pokemon de la web y creamos una lista con ellas"
   ]
  },
  {
   "cell_type": "code",
   "execution_count": 50,
   "metadata": {},
   "outputs": [],
   "source": [
    "filas = soup.find('table',attrs={'id':'pokedex'}).find('tbody').find_all('tr')"
   ]
  },
  {
   "cell_type": "markdown",
   "metadata": {},
   "source": [
    "Obtenidas las filas de datos, se comienza a crear listas para organizar los valores"
   ]
  },
  {
   "cell_type": "code",
   "execution_count": 51,
   "metadata": {},
   "outputs": [],
   "source": [
    "numero = []\n",
    "nombre = []\n",
    "tipo = []\n",
    "total =[]\n",
    "vida = []\n",
    "ataque = []\n",
    "defensa = []\n",
    "ataespecial = []\n",
    "defespecial = []\n",
    "velocidad = []"
   ]
  },
  {
   "cell_type": "markdown",
   "metadata": {},
   "source": [
    "Agregamos a cada lista el valor correspondiente en orden, para no mezclar datos"
   ]
  },
  {
   "cell_type": "code",
   "execution_count": 52,
   "metadata": {},
   "outputs": [],
   "source": [
    "for row in filas:\n",
    "    numero.append(row.find_all('td')[0].get_text())\n",
    "    nombre.append(row.find_all('td')[1].get_text())\n",
    "    tipo.append(row.find_all('td')[2].get_text())\n",
    "    total.append(row.find_all('td')[3].get_text())\n",
    "    vida.append(row.find_all('td')[4].get_text())\n",
    "    ataque.append(row.find_all('td')[5].get_text())\n",
    "    defensa.append(row.find_all('td')[6].get_text())\n",
    "    ataespecial.append(row.find_all('td')[7].get_text())\n",
    "    defespecial.append(row.find_all('td')[8].get_text())\n",
    "    velocidad.append(row.find_all('td')[9].get_text())"
   ]
  },
  {
   "cell_type": "markdown",
   "metadata": {},
   "source": [
    "Con nuestras listas completas, creamos un DataFrame usando pandas, en donde definimos los nombres de cada columna, y su correspondiente lista."
   ]
  },
  {
   "cell_type": "code",
   "execution_count": 53,
   "metadata": {},
   "outputs": [],
   "source": [
    "DF = pandas.DataFrame({'ID':numero,'Nombre':nombre, 'Tipo':tipo,\n",
    " 'Poder':total, 'Vida':vida, 'Ataque':ataque,\n",
    " 'Defensa':defensa, 'Ataque SP':ataespecial, 'Defensa SP':defespecial,\n",
    " 'Velocidad':velocidad})"
   ]
  },
  {
   "cell_type": "markdown",
   "metadata": {},
   "source": [
    "Pasamos el DataFrame a formato CSV, quitando la columna de Index para que no haya conflicto a la hora del analisis"
   ]
  },
  {
   "cell_type": "code",
   "execution_count": 54,
   "metadata": {},
   "outputs": [],
   "source": [
    "DF.to_csv('Pokemon.csv', index=False)"
   ]
  }
 ],
 "metadata": {
  "kernelspec": {
   "display_name": "Python 3.9.13 ('base')",
   "language": "python",
   "name": "python3"
  },
  "language_info": {
   "codemirror_mode": {
    "name": "ipython",
    "version": 3
   },
   "file_extension": ".py",
   "mimetype": "text/x-python",
   "name": "python",
   "nbconvert_exporter": "python",
   "pygments_lexer": "ipython3",
   "version": "3.9.13"
  },
  "orig_nbformat": 4,
  "vscode": {
   "interpreter": {
    "hash": "5a356e9517e14dc2ad259a2123438b15b3972e1e2b3dbfde245c14a47e88b3a8"
   }
  }
 },
 "nbformat": 4,
 "nbformat_minor": 2
}
